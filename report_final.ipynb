{
 "cells": [
  {
   "cell_type": "markdown",
   "metadata": {},
   "source": [
    "# Emergency Planning\n",
    "\n",
    "**Author**: Sebastian Granda\n",
    "\n",
    "**Course**: Integer Programming\n",
    "\n",
    "**References**\n",
    "* Laporte, G., & Louveaux, F. V. (1993). The integer L-shaped method for stochastic integer programs with complete recourse.\n",
    "* Birge, J. R., & Louveaux, F. (2011). Introduction to Stochastic Programming."
   ]
  },
  {
   "cell_type": "markdown",
   "metadata": {},
   "source": [
    "In this notebook we implement the L-shaped and Integer L-shaped methods in the iterative and callback versions using the multi-cut approach. The code can be found in the following [repository](https://github.com/SebastianGrandaA/EmergencyPlanning/).\n",
    "\n",
    "To start, we use the following small instance to go through the process:"
   ]
  },
  {
   "cell_type": "code",
   "execution_count": 1,
   "metadata": {},
   "outputs": [],
   "source": [
    "sample_instance = \"EP_sites_5_scenarios_10_lf_0.5_seed_0\";"
   ]
  },
  {
   "cell_type": "markdown",
   "metadata": {},
   "source": [
    "## Implementation notes"
   ]
  },
  {
   "cell_type": "markdown",
   "metadata": {},
   "source": [
    "This project has been implemented as a Julia package called `EmergencyPlanning`. The main entry-point is the `execute` function, which creates an `Input` instance, solves the problem, and returns the solution as a `Solution` object. As part of the nomenclature, **all the optimization methods have been implemented with the `solve` function name**, using the multiple dispatch technique: `solve(::Base)`, `solve(::LShaped, ::Iterative)`, `solve(::LShaped, ::Callback)`, `solve(::IntegerLShaped)`.\n",
    "\n",
    "To set up this package, it is required to have `Gurobi.jl` installed with a valid license, otherwise replace `using Gurobi` and `Gurobi.Optimizer` from `src/EmergencyPlanning.jl` for an open source alternative, such as `GLPK.jl` :\n",
    "\n",
    "```julia\n",
    "using GLPK\n",
    "solver = optimizer_with_attributes(GPLK.Optimizer)\n",
    "```\n",
    "\n",
    "All the necessary dependencies will be managed by running the following cell:"
   ]
  },
  {
   "cell_type": "code",
   "execution_count": 1,
   "metadata": {},
   "outputs": [
    {
     "name": "stderr",
     "output_type": "stream",
     "text": [
      "\u001b[32m\u001b[1m  Activating\u001b[22m\u001b[39m project at `~/Documents/Tech/Academic/M2 ROAD/Courses/1. Integer programming/Projet/EmergencyPlanning`\n"
     ]
    }
   ],
   "source": [
    "using Pkg\n",
    "Pkg.activate(@__DIR__)\n",
    "using EmergencyPlanning: benchmark!, test, execute, plot_summary!"
   ]
  },
  {
   "cell_type": "markdown",
   "metadata": {},
   "source": [
    "## Base model"
   ]
  },
  {
   "cell_type": "markdown",
   "metadata": {},
   "source": [
    "The `Base` model allow us to compare the solutions obtained from the L-shaped methods against the original formulation of the problem description. Find this formulation at `src/methods/Base.jl`."
   ]
  },
  {
   "cell_type": "code",
   "execution_count": null,
   "metadata": {},
   "outputs": [],
   "source": [
    "base_solution = execute(model=\"Base\", filename=sample_instance, limit=60, benchmark=true)"
   ]
  },
  {
   "cell_type": "markdown",
   "metadata": {},
   "source": []
  },
  {
   "cell_type": "code",
   "execution_count": null,
   "metadata": {},
   "outputs": [],
   "source": []
  },
  {
   "cell_type": "markdown",
   "metadata": {},
   "source": [
    "## L-shaped method"
   ]
  },
  {
   "cell_type": "markdown",
   "metadata": {},
   "source": [
    "The L-shaped method is a decomposition technique for solving two-stage stochastic linear programs similar to Benders decomposition.\n",
    "In the first stage the team location variables $x_{ik}$ are determined, while in the second stage the assignment of teams to sites $y^{s}_{ij}$ and the number of rescues $u^{s}_{ij}$ are determined for each scenario $s \\in S$ independently.\n",
    "\n",
    "The master problem provides candidate solutions and the subproblem either improves the lower bound (optimality cuts) or makes the problem feasible (feasibility cuts).\n",
    "The master problem approximates the subproblem solutions by introducing an additional variable $\\theta_{s} \\forall s \\in S$ that represents second-stage cost.\n",
    "These cuts are added dynamically to the master problem using the dual solutions of the subproblems.\n",
    "\n",
    "Given that the team location variables are fixed $\\bar{x}_{ik}$, the subproblem solved to obtain the **optimality** cut is the following:\n",
    "\n",
    "$$\\text{SP-opt}^{s} = \\quad \\min - \\sum_{i \\in I} \\sum_{j \\in N(i)} u^{s}_{ij}$$\n",
    "\n",
    "$$\\text{s.t.} \\quad \\sum_{j \\in N(i)} y^{s}_{ij} \\leq 1 \\quad \\forall i \\in I \\quad \\text{(exclusive assignment)}$$\n",
    "$$\\sum_{j \\in N(i)} u^{s}_{ij} \\leq d^{s}_{i} \\quad \\forall i \\in I \\quad \\text{(demand satisfaction)}$$\n",
    "$$\\sum_{j \\in N(i)} u^{s}_{ij} \\leq \\sum_{k \\in K} C_{k} \\bar{x}_{ik} \\quad \\forall i \\in I \\quad \\text{(rescue capacity)}$$\n",
    "$$u^{s}_{ij} \\leq M y^{s}_{ij} \\quad \\forall i \\in I, j \\in N(i) \\quad \\text{(exclusive rescues)}$$\n",
    "$$u^{s}_{ij} \\geq 0 \\quad \\forall i \\in I, j \\in N(i)$$\n",
    "$$y^{s}_{ij} \\geq 0 \\quad \\forall i \\in I, j \\in N(i)$$\n",
    "\n",
    "The objective function aims to maximize the total number of rescues by minimizing the negative number of rescues.\n",
    "The exclusive assignment constraint ensures that rescue teams can be assigned to at most one neighboring site.\n",
    "The demand satisfaction constraint guarantees that the number of rescues in each site does not exceed the demand.\n",
    "The rescue capacity constraint provides an upper bound on the number of rescues in each site based on the capacity of the allocated teams.\n",
    "The exclusive rescues constraint ensures that a team can rescue in a given site only if it is assigned to a neighboring site, using a large constant $M = \\sum_{k \\in K} C_{k}$.\n",
    "The last two constraints define the domain of the variables $u^{s}_{ij}$ and $y^{s}_{ij}$, respectively.\n",
    "Note that the integrality constraints of $y^{s}_{ij}$ has been relaxed to obtain the dual solutions.\n",
    "\n",
    "Let $\\lambda^{s}_{i}$ be the dual variable associated with the rescue capacity constraint, and define $v(s)$ as the objective value of the subproblem for scenario $s$.\n",
    "As an assumption, we only consider the duals associated with the rescue capacity constraint, because it is the only constraint with relationship with the first-stage variables.\n",
    "Then, the optimality cut for scenario $s$ is formulated as follows:\n",
    "\n",
    "$$- \\pi_{s} v(s) + \\sum_{i \\in I} \\lambda^{s}_{i} \\sum_{k \\in K} C_{k} x_{ik} \\leq \\theta_{s}$$\n",
    "\n",
    "Where $\\pi_{s}$ is the probability of scenario $s$.\n",
    "Due that the subproblem objective function is the only term in the master objective function, we add the optimality cut only if it improves the lower bound.\n",
    "This cut is multplied by $-1$ to obtain the correct sign.\n",
    "\n",
    "On the other hand, to obtain the **feasibility cut** we solve the auxiliary problem to determine the capacity deficit and surplus for each site $i \\in I$.\n",
    "Let $\\delta^{+}_{i}$ and $\\delta^{-}_{i}$ be the artificial variables associated with the capacity deficit and surplus, respectively.\n",
    "Then, the auxiliary problem solved to obtain the feasibility cut is the following:\n",
    "\n",
    "$$\\text{SP-feas}^{s} = \\quad \\min \\sum_{i \\in I} \\delta^{+}_{i} + \\delta^{-}_{i}$$\n",
    "\n",
    "$$\\text{s.t.} \\quad \\sum_{j \\in N(i)} y^{s}_{ij} \\leq 1 \\quad \\forall i \\in I \\quad \\text{(exclusive assignment)}$$\n",
    "$$\\sum_{j \\in N(i)} u^{s}_{ij} \\leq d^{s}_{i} \\quad \\forall i \\in I \\quad \\text{(demand satisfaction)}$$\n",
    "$$\\sum_{j \\in N(i)} u^{s}_{ij} + \\delta^{+}_{i} - \\delta^{-}_{i} \\leq \\sum_{k \\in K} C_{k} \\bar{x}_{ik} \\quad \\forall i \\in I \\quad \\text{(rescue capacity)}$$\n",
    "$$u^{s}_{ij} \\leq M y^{s}_{ij} \\quad \\forall i \\in I, j \\in N(i) \\quad \\text{(exclusive rescues)}$$\n",
    "$$u^{s}_{ij} \\geq 0 \\quad \\forall i \\in I, j \\in N(i)$$\n",
    "$$y^{s}_{ij} \\geq 0 \\quad \\forall i \\in I, j \\in N(i)$$\n",
    "$$\\delta^{+}_{i} \\geq 0 \\quad \\forall i \\in I$$\n",
    "$$\\delta^{-}_{i} \\geq 0 \\quad \\forall i \\in I$$\n",
    "\n",
    "The rescue capacity constraint now includes the artificial variables $\\delta^{+}_{i}$ and $\\delta^{-}_{i}$ to measure the infeasibility of the first-stage solution.\n",
    "This auxiliary problem seeks to minimize the total capacity deficit and surplus, thus we consider the first-stage solution as feasible if all the artificial variables are zero.\n",
    "Let $\\beta^{s}_{i}$ be the dual variable associated with the rescue capacity constraint, and again consider $v(s)$ to represent the objective value for the feasibility subproblem in scenario $s$.\n",
    "Then, the feasibility cut for scenario $s$ is formulated as follows:\n",
    "\n",
    "$$- v(s) + \\sum_{i \\in I} \\beta^{s}_{i} \\sum_{k \\in K} C_{k} x_{ik} \\leq 0$$\n",
    "\n",
    "The master problem is given by:\n",
    "\n",
    "$$\\text{(MP)} \\quad \\min - \\sum_{s \\in S} \\pi_{s} \\theta_{s}$$\n",
    "\n",
    "$$\\text{s.t.} \\quad \\sum_{k \\in K} x_{ik} <= 1 \\quad \\forall i \\in I \\quad \\text{(exclusive allocation)}$$\n",
    "$$\\sum_{k \\in K} \\sum_{i \\in I} b_{k} x_{ik} \\leq B \\quad \\text{(budget)}$$\n",
    "$$\\text{feasibility cuts}$$\n",
    "$$\\text{optimality cuts}$$\n",
    "$$\\theta_{s} \\geq 0 \\quad \\forall s \\in S$$\n",
    "$$x_{ik} \\in \\{0, 1\\} \\quad \\forall i \\in I, k \\in K$$\n",
    "\n",
    "The objective function seeks to minimize the total expected recourse cost, which in the deterministic form is sum of the number of rescues in each scenario weighted by its probability.\n",
    "The exclusive allocation constraint ensures that each team is allocated to at most one site.\n",
    "The budget constraint ensures that the total cost of the team allocation does not exceed the budget limit $B$.\n",
    "\n",
    "The multi-cut L-shaped method has been implemented in both the iterative and the callback versions.\n",
    "The logic is orchestrated by the `solve!` function in either `src/methods/LShapedIterative.jl` or `src/methods/LShapedCallback.jl` files for each version. The master problem and subproblem formulations are located at `src/methods/problems/MasterProblem.jl` and `src/methods/problems/SubProblem.jl`, respectively, under the constructor functions named after them. In the master problem, there is a custom `solve!` function to ensure consistency of the iterations. In the subproblems, there are separate implementations for the optimality and feasibility subproblems.\n",
    "\n",
    "For the iterative version, the subproblems are solved in parallel for each scenario; whereas for the callback version, the cuts are handled by the solver. The stop criteria for the iterative L-shaped method is based on the converage, which is the difference between the objective value of the master problem and the expected recourse, the maximum number of iterations and the maximum number of iterations without improvement."
   ]
  },
  {
   "cell_type": "markdown",
   "metadata": {},
   "source": [
    "To invoke the `solve` function of the iterative L-shaped method located at `src/methods/LShaped.jl`, we call:"
   ]
  },
  {
   "cell_type": "code",
   "execution_count": 8,
   "metadata": {},
   "outputs": [],
   "source": [
    "ls_solution = execute(model=\"LShaped\", :usage=:iterative, filename=sample_instance, limit=60, benchmark=true)"
   ]
  },
  {
   "cell_type": "markdown",
   "metadata": {},
   "source": [
    "As expected, we obtain decimal solutions."
   ]
  },
  {
   "cell_type": "markdown",
   "metadata": {},
   "source": [
    "To use the L-shaped in the callback version:"
   ]
  },
  {
   "cell_type": "code",
   "execution_count": null,
   "metadata": {},
   "outputs": [],
   "source": [
    "ls_solution_c = execute(model=\"LShaped\", :usage=:callback, filename=sample_instance, limit=60, benchmark=true)"
   ]
  },
  {
   "cell_type": "markdown",
   "metadata": {},
   "source": [
    "Explain solution....."
   ]
  },
  {
   "cell_type": "markdown",
   "metadata": {},
   "source": [
    "## Integer L-shaped method"
   ]
  },
  {
   "cell_type": "markdown",
   "metadata": {},
   "source": [
    "Previouly, the integrality constraint of $y^{s}_{ij}$ has been relaxed.\n",
    "In this section we explain the implementation of the Integer L-shaped method, which considers the integrality constraint. This method is implemented in the `src/methods/IntegerLShaped.jl` file, under the `solve` function, in the iterative version.\n",
    "\n",
    "We start by solving the linear relaxation of the master problem. If the solution is integer, then we have found the optimal solution. Otherwise, we select a branching variable and create two nodes, one for each subproblem with the upper and lower bound constraints. This new subproblems are solved, evaluate if they should be pruned or not, and repeat the process until all nodes are pruned.\n",
    "\n",
    "Therefore, the stop criteria is based on the quantity of pendant nodes and on the number of iterations. To determine whether a node should be pruned or not, we use three criteria: infeasibility, bound and integrality. In other words, we prune a node if it is infeasible or unbounded, or if the all variables are integer or if there exists a better solution (lower bound). The search criteria is breadth-first search, which means that we select the node with the best objective value over the set of pendant nodes. Finally, we use a random criteria to select the non-integer variable to branch on."
   ]
  },
  {
   "cell_type": "code",
   "execution_count": null,
   "metadata": {},
   "outputs": [],
   "source": [
    "ls_solution_c = execute(model=\"IntegerLShaped\", :usage=:callback, filename=sample_instance, limit=60, benchmark=true)"
   ]
  },
  {
   "cell_type": "markdown",
   "metadata": {},
   "source": [
    "## Numerical experiments"
   ]
  },
  {
   "cell_type": "markdown",
   "metadata": {},
   "source": [
    "A `benchmark` function is created to execute the models with several instances and to compare them. The logic related to the benchmark process can be found at `src/services/benchmark.jl`."
   ]
  },
  {
   "cell_type": "code",
   "execution_count": 4,
   "metadata": {},
   "outputs": [],
   "source": [
    "SETTINGS = Dict{String, Dict}(\n",
    "    \"Base\" => Dict(),\n",
    "    \"LShaped\" => Dict(:usage => :iterative),\n",
    "    # \"LShaped\" => Dict(:usage => :callback),\n",
    "    \"IntegerLShaped\" => Dict(),\n",
    ");\n",
    "MODELS = collect(keys(SETTINGS));"
   ]
  },
  {
   "cell_type": "code",
   "execution_count": 5,
   "metadata": {},
   "outputs": [
    {
     "name": "stderr",
     "output_type": "stream",
     "text": [
      "┌ Info: Base | Instance EP_sites_100_scenarios_100_lf_0.2_seed_0 | Sites 100 | Teams 3 | Scenarios 100\n",
      "└ @ EmergencyPlanning /Users/sebastiangrandaaltamirano/Documents/Tech/Academic/M2 ROAD/Courses/1. Integer programming/Projet/EmergencyPlanning/src/EmergencyPlanning.jl:71\n",
      "┌ Info: Solution is valid\n",
      "└ @ EmergencyPlanning /Users/sebastiangrandaaltamirano/Documents/Tech/Academic/M2 ROAD/Courses/1. Integer programming/Projet/EmergencyPlanning/src/services/helpers.jl:18\n"
     ]
    },
    {
     "name": "stdout",
     "output_type": "stream",
     "text": [
      "Set parameter Username\n",
      "Academic license - for non-commercial use only - expires 2024-10-19\n",
      "Set parameter TimeLimit to value 3600\n"
     ]
    },
    {
     "ename": "SystemError",
     "evalue": "SystemError: opening file \"/Users/sebastiangrandaaltamirano/Documents/Tech/Academic/M2 ROAD/Courses/1. Integer programming/Projet/EmergencyPlanning/outputs/solutions/EP_sites_100_scenarios_100_lf_0.2_seed_0_Base_allocations.csv\": No such file or directory",
     "output_type": "error",
     "traceback": [
      "SystemError: opening file \"/Users/sebastiangrandaaltamirano/Documents/Tech/Academic/M2 ROAD/Courses/1. Integer programming/Projet/EmergencyPlanning/outputs/solutions/EP_sites_100_scenarios_100_lf_0.2_seed_0_Base_allocations.csv\": No such file or directory\n",
      "\n",
      "Stacktrace:\n",
      "  [1] systemerror(p::String, errno::Int32; extrainfo::Nothing)\n",
      "    @ Base ./error.jl:176\n",
      "  [2] #systemerror#82\n",
      "    @ ./error.jl:175 [inlined]\n",
      "  [3] systemerror\n",
      "    @ ./error.jl:175 [inlined]\n",
      "  [4] open(fname::String; lock::Bool, read::Nothing, write::Nothing, create::Nothing, truncate::Bool, append::Nothing)\n",
      "    @ Base ./iostream.jl:293\n",
      "  [5] open\n",
      "    @ ./iostream.jl:275 [inlined]\n",
      "  [6] open(fname::String, mode::String; lock::Bool)\n",
      "    @ Base ./iostream.jl:356\n",
      "  [7] open(fname::String, mode::String)\n",
      "    @ Base ./iostream.jl:355\n",
      "  [8] with(f::CSV.var\"#107#108\"{Bool, Bool, Tables.Schema{(:team, :site), Tuple{String, String}}, DataFrames.DataFrameRows{DataFrames.DataFrame}, CSV.Options{UInt8, UInt8, Nothing, Tuple{}, typeof(CSV._identity)}, Vector{UInt8}, Int64, Int64, Tuple{Symbol, Symbol}}, io::Any, append::Bool, compress::Bool)\n",
      "    @ CSV ~/.julia/packages/CSV/OnldF/src/write.jl:286\n",
      "  [9] #write#106\n",
      "    @ ~/.julia/packages/CSV/OnldF/src/write.jl:215 [inlined]\n",
      " [10] write(file::String, itr::DataFrames.DataFrame; append::Bool, compress::Bool, writeheader::Nothing, partition::Bool, kw::Base.Pairs{Symbol, Union{}, Tuple{}, NamedTuple{(), Tuple{}}})\n",
      "    @ CSV ~/.julia/packages/CSV/OnldF/src/write.jl:199\n",
      " [11] write\n",
      "    @ ~/.julia/packages/CSV/OnldF/src/write.jl:162 [inlined]\n",
      " [12] export_solution(path::String, instance::EmergencyPlanning.Instance, solution::EmergencyPlanning.Solution)\n",
      "    @ EmergencyPlanning ~/Documents/Tech/Academic/M2 ROAD/Courses/1. Integer programming/Projet/EmergencyPlanning/src/services/helpers.jl:100\n",
      " [13] execute(; kwargs::Base.Pairs{Symbol, Any, NTuple{5, Symbol}, NamedTuple{(:filename, :benchmark, :limit, :verbose, :model), Tuple{String, Bool, Int64, Bool, String}}})\n",
      "    @ EmergencyPlanning ~/Documents/Tech/Academic/M2 ROAD/Courses/1. Integer programming/Projet/EmergencyPlanning/src/EmergencyPlanning.jl:124\n",
      " [14] optimize(instance_name::String, model_name::String; kwargs::Base.Pairs{Symbol, Union{}, Tuple{}, NamedTuple{(), Tuple{}}})\n",
      "    @ EmergencyPlanning ~/Documents/Tech/Academic/M2 ROAD/Courses/1. Integer programming/Projet/EmergencyPlanning/src/EmergencyPlanning.jl:96\n",
      " [15] optimize\n",
      "    @ ~/Documents/Tech/Academic/M2 ROAD/Courses/1. Integer programming/Projet/EmergencyPlanning/src/EmergencyPlanning.jl:86 [inlined]\n",
      " [16] benchmark!(model_names::Vector{String}, instance_names::Vector{String}, settings::Dict{String, Dict})\n",
      "    @ EmergencyPlanning ~/Documents/Tech/Academic/M2 ROAD/Courses/1. Integer programming/Projet/EmergencyPlanning/src/services/benchmark.jl:9\n",
      " [17] benchmark!(model_names::Vector{String}, sample_size::Int64, settings::Dict{String, Dict})\n",
      "    @ EmergencyPlanning ~/Documents/Tech/Academic/M2 ROAD/Courses/1. Integer programming/Projet/EmergencyPlanning/src/services/benchmark.jl:27\n",
      " [18] top-level scope\n",
      "    @ ~/Documents/Tech/Academic/M2 ROAD/Courses/1. Integer programming/Projet/EmergencyPlanning/report.ipynb:3"
     ]
    }
   ],
   "source": [
    "SAMPLE_SIZE = -1 # -1 to run all\n",
    "\n",
    "benchmark!(MODELS, SAMPLE_SIZE, SETTINGS)"
   ]
  },
  {
   "cell_type": "markdown",
   "metadata": {},
   "source": [
    "## Single instance\n"
   ]
  },
  {
   "cell_type": "code",
   "execution_count": null,
   "metadata": {},
   "outputs": [],
   "source": [
    "base_solution = execute(\n",
    "    model=\"Base\",\n",
    "    filename=\"EP_sites_5_scenarios_10_lf_0.5_seed_0\",\n",
    "    limit=60,\n",
    "    benchmark=true\n",
    ")"
   ]
  },
  {
   "cell_type": "code",
   "execution_count": null,
   "metadata": {},
   "outputs": [],
   "source": []
  },
  {
   "cell_type": "markdown",
   "metadata": {},
   "source": [
    "# INTERESTING INSTAC E FOR INTEGR LSHAPED\n",
    "# \"EP_sites_50_scenarios_100_lf_0.5_seed_10\""
   ]
  },
  {
   "cell_type": "code",
   "execution_count": null,
   "metadata": {},
   "outputs": [],
   "source": [
    "fieldnames(typeof(base_solution))"
   ]
  },
  {
   "cell_type": "code",
   "execution_count": null,
   "metadata": {},
   "outputs": [],
   "source": [
    "base_solution.metrics"
   ]
  },
  {
   "cell_type": "code",
   "execution_count": null,
   "metadata": {},
   "outputs": [],
   "source": []
  },
  {
   "cell_type": "code",
   "execution_count": null,
   "metadata": {},
   "outputs": [],
   "source": [
    "ils_solution = execute(model=\"IntegerLShaped\", filename=\"EP_sites_5_scenarios_10_lf_0.5_seed_0\", limit=60, benchmark=true)"
   ]
  },
  {
   "cell_type": "code",
   "execution_count": null,
   "metadata": {},
   "outputs": [],
   "source": [
    "ils_solution.metrics"
   ]
  },
  {
   "cell_type": "markdown",
   "metadata": {},
   "source": []
  },
  {
   "cell_type": "markdown",
   "metadata": {},
   "source": [
    "## Test"
   ]
  },
  {
   "cell_type": "code",
   "execution_count": null,
   "metadata": {},
   "outputs": [],
   "source": [
    "EXPECTED_RESULTS = Dict{String, Real}(\n",
    "    \"EP_sites_5_scenarios_10_lf_0.5_seed_0\" => 10,\n",
    "    \"EP_sites_5_scenarios_100_lf_0.5_seed_10\" => 10,\n",
    "    \"EP_sites_10_scenarios_50_lf_0.2_seed_10\" => 10,\n",
    "    # \"EP_sites_5_scenarios_50_lf_0.5_seed_10\" => 10,\n",
    "    # \"EP_sites_10_scenarios_10_lf_0.5_seed_0\" => 20,\n",
    "    # \"EP_sites_10_scenarios_100_lf_0.5_seed_10\" => 20,\n",
    "\n",
    "    # \"EP_sites_10_scenarios_1_lf_0.8_seed_10\" => 60,\n",
    "    # \"EP_sites_50_scenarios_50_lf_0.5_seed_0\" => 220,\n",
    "    # \"EP_sites_100_scenarios_100_lf_0.5_seed_0\" => 500, # only L-shaped\n",
    "\n",
    "    # \"EP_sites_100_scenarios_10_lf_0.5_seed_0\" => 500,\n",
    "    # \"EP_sites_100_scenarios_100_lf_0.8_seed_0\" => 800, # [iterative] 58seg | [base] 1761seg\n",
    "\n",
    "\n",
    "\n",
    "    # \"EP_sites_5_scenarios_100_lf_0.2_seed_10\", # TODO no feasible solution??\n",
    ")\n",
    "\n",
    "errors = test(MODELS, EXPECTED_RESULTS, SETTINGS)"
   ]
  },
  {
   "cell_type": "code",
   "execution_count": null,
   "metadata": {},
   "outputs": [],
   "source": [
    "isempty(errors) || error(\"Errors found: $errors\")"
   ]
  },
  {
   "cell_type": "markdown",
   "metadata": {},
   "source": [
    "## Benchmark"
   ]
  },
  {
   "cell_type": "code",
   "execution_count": null,
   "metadata": {},
   "outputs": [],
   "source": [
    "SAMPLE_SIZE = 1\n",
    "benchmark!(MODELS, SAMPLE_SIZE, SETTINGS)"
   ]
  },
  {
   "cell_type": "code",
   "execution_count": null,
   "metadata": {},
   "outputs": [],
   "source": [
    "INSTANCE_NAMES = [\n",
    "    \"EP_sites_5_scenarios_50_lf_0.5_seed_10\",\n",
    "    # \"EP_sites_100_scenarios_100_lf_0.5_seed_10\",\n",
    "    # \"EP_sites_100_scenarios_50_lf_0.5_seed_0\",\n",
    "    # \"EP_sites_50_scenarios_100_lf_0.2_seed_0\",\n",
    "    # \"EP_sites_100_scenarios_100_lf_0.8_seed_10\"\n",
    "]\n",
    "benchmark!(MODELS, INSTANCE_NAMES, SETTINGS)"
   ]
  },
  {
   "cell_type": "code",
   "execution_count": null,
   "metadata": {},
   "outputs": [],
   "source": []
  },
  {
   "cell_type": "markdown",
   "metadata": {},
   "source": []
  },
  {
   "cell_type": "markdown",
   "metadata": {},
   "source": []
  },
  {
   "cell_type": "markdown",
   "metadata": {},
   "source": [
    "## After running the benchmark, we proceed analysing the results:"
   ]
  },
  {
   "cell_type": "markdown",
   "metadata": {},
   "source": []
  },
  {
   "cell_type": "code",
   "execution_count": 5,
   "metadata": {},
   "outputs": [
    {
     "name": "stderr",
     "output_type": "stream",
     "text": [
      "┌ Info: Statistical Summary\n",
      "│   stats = \u001b[1m131×10 DataFrame\u001b[0m\n",
      "\u001b[1m Row \u001b[0m│\u001b[1m model_name        \u001b[0m\u001b[1m instance_name                     \u001b[0m\u001b[1m objective_value_min \u001b[0m\u001b[1m objective_value_mean \u001b[0m\u001b[1m objective_value_std \u001b[0m\u001b[1m objective_value_max \u001b[0m\u001b[1m execution_time_min \u001b[0m\u001b[1m execution_time_mean \u001b[0m\u001b[1m execution_time_std \u001b[0m\u001b[1m execution_time_max \u001b[0m\n",
      "     │\u001b[90m String31          \u001b[0m\u001b[90m String                            \u001b[0m\u001b[90m Float64             \u001b[0m\u001b[90m Float64              \u001b[0m\u001b[90m Float64             \u001b[0m\u001b[90m Float64             \u001b[0m\u001b[90m Float64            \u001b[0m\u001b[90m Float64             \u001b[0m\u001b[90m Float64            \u001b[0m\u001b[90m Float64            \u001b[0m\n",
      "─────┼────────────────────────────────────────────────────────────────────────────────────────────────────────────────────────────────────────────────────────────────────────────────────────────────────────────────────────────\n",
      "   1 │ Base               EP_sites_100_scenarios_100_lf_0.…               200.0                 200.0                   NaN               200.0          20.7262              20.7262                     NaN         20.7262\n",
      "   2 │ LShaped-iterative  EP_sites_100_scenarios_100_lf_0.…               200.0                 200.0                   NaN               200.0          41.5481              41.5481                     NaN         41.5481\n",
      "   3 │ LShaped            EP_sites_100_scenarios_100_lf_0.…               200.0                 200.0                   NaN               200.0          31.7188              31.7188                     NaN         31.7188\n",
      "   4 │ Base               EP_sites_100_scenarios_100_lf_0.…               200.0                 200.0                   NaN               200.0          16.1895              16.1895                     NaN         16.1895\n",
      "   5 │ LShaped-iterative  EP_sites_100_scenarios_100_lf_0.…               200.0                 200.0                   NaN               200.0          36.1324              36.1324                     NaN         36.1324\n",
      "   6 │ LShaped            EP_sites_100_scenarios_100_lf_0.…               200.0                 200.0                   NaN               200.0          43.511               43.511                      NaN         43.511\n",
      "   7 │ LShaped-iterative  EP_sites_100_scenarios_100_lf_0.…               500.0                 500.0                   NaN               500.0          53.7294              53.7294                     NaN         53.7294\n",
      "   8 │ IntegerLShaped     EP_sites_100_scenarios_100_lf_0.…               500.0                 500.0                   NaN               500.0          85.8302              85.8302                     NaN         85.8302\n",
      "   9 │ LShaped-iterative  EP_sites_100_scenarios_100_lf_0.…               500.0                 500.0                   NaN               500.0          53.6362              53.6362                     NaN         53.6362\n",
      "  10 │ LShaped            EP_sites_100_scenarios_100_lf_0.…               500.0                 500.0                   NaN               500.0          49.2784              49.2784                     NaN         49.2784\n",
      "  11 │ Base               EP_sites_100_scenarios_100_lf_0.…               800.0                 800.0                   NaN               800.0        1356.45              1356.45                       NaN       1356.45\n",
      "  12 │ LShaped-iterative  EP_sites_100_scenarios_100_lf_0.…               800.0                 800.0                   NaN               800.0          60.2244              60.2244                     NaN         60.2244\n",
      "  13 │ LShaped            EP_sites_100_scenarios_100_lf_0.…               800.0                 800.0                   NaN               800.0          61.8792              61.8792                     NaN         61.8792\n",
      "  14 │ Base               EP_sites_100_scenarios_100_lf_0.…               800.0                 800.0                   NaN               800.0        1958.03              1958.03                       NaN       1958.03\n",
      "  15 │ LShaped-iterative  EP_sites_100_scenarios_100_lf_0.…               800.0                 800.0                   NaN               800.0          52.5542              52.5542                     NaN         52.5542\n",
      "  16 │ LShaped            EP_sites_100_scenarios_100_lf_0.…               800.0                 800.0                   NaN               800.0          51.356               51.356                      NaN         51.356\n",
      "  17 │ Base               EP_sites_100_scenarios_10_lf_0.2…               200.0                 200.0                   NaN               200.0           1.79753              1.79753                    NaN          1.79753\n",
      "  18 │ LShaped-iterative  EP_sites_100_scenarios_10_lf_0.2…               200.0                 200.0                   NaN               200.0          15.1306              15.1306                     NaN         15.1306\n",
      "  19 │ LShaped            EP_sites_100_scenarios_10_lf_0.2…               200.0                 200.0                   NaN               200.0          15.9019              15.9019                     NaN         15.9019\n",
      "  20 │ Base               EP_sites_100_scenarios_10_lf_0.2…               200.0                 200.0                   NaN               200.0           1.73852              1.73852                    NaN          1.73852\n",
      "  21 │ LShaped-iterative  EP_sites_100_scenarios_10_lf_0.2…               200.0                 200.0                   NaN               200.0          14.8725              14.8725                     NaN         14.8725\n",
      "  22 │ LShaped            EP_sites_100_scenarios_10_lf_0.2…               200.0                 200.0                   NaN               200.0          13.7082              13.7082                     NaN         13.7082\n",
      "  23 │ Base               EP_sites_100_scenarios_10_lf_0.5…               500.0                 500.0                   NaN               500.0           1.35967              1.35967                    NaN          1.35967\n",
      "  24 │ LShaped-iterative  EP_sites_100_scenarios_10_lf_0.5…               500.0                 500.0                   NaN               500.0          15.3581              15.3581                     NaN         15.3581\n",
      "  25 │ LShaped            EP_sites_100_scenarios_10_lf_0.5…               500.0                 500.0                   NaN               500.0          15.6446              15.6446                     NaN         15.6446\n",
      "  26 │ Base               EP_sites_100_scenarios_10_lf_0.5…               500.0                 500.0                   NaN               500.0           1.84545              1.84545                    NaN          1.84545\n",
      "  27 │ LShaped-iterative  EP_sites_100_scenarios_10_lf_0.5…               500.0                 500.0                   NaN               500.0          14.5353              14.5353                     NaN         14.5353\n",
      "  28 │ LShaped            EP_sites_100_scenarios_10_lf_0.5…               500.0                 500.0                   NaN               500.0          15.3658              15.3658                     NaN         15.3658\n",
      "  29 │ Base               EP_sites_100_scenarios_10_lf_0.8…               800.0                 800.0                   NaN               800.0          12.2576              12.2576                     NaN         12.2576\n",
      "  30 │ LShaped-iterative  EP_sites_100_scenarios_10_lf_0.8…               800.0                 800.0                   NaN               800.0          13.4632              13.4632                     NaN         13.4632\n",
      "  31 │ IntegerLShaped     EP_sites_100_scenarios_10_lf_0.8…               800.0                 800.0                   NaN               800.0          14.932               14.932                      NaN         14.932\n",
      "  32 │ Base               EP_sites_100_scenarios_10_lf_0.8…               800.0                 800.0                   NaN               800.0           9.05041              9.05041                    NaN          9.05041\n",
      "  33 │ LShaped-iterative  EP_sites_100_scenarios_10_lf_0.8…               800.0                 800.0                   NaN               800.0          15.973               15.973                      NaN         15.973\n",
      "  34 │ LShaped            EP_sites_100_scenarios_10_lf_0.8…               800.0                 800.0                   NaN               800.0          14.9819              14.9819                     NaN         14.9819\n",
      "  35 │ Base               EP_sites_100_scenarios_1_lf_0.2_…               200.0                 200.0                   NaN               200.0           0.374912             0.374912                   NaN          0.374912\n",
      "  36 │ LShaped-iterative  EP_sites_100_scenarios_1_lf_0.2_…               200.0                 200.0                   NaN               200.0           0.298106             0.298106                   NaN          0.298106\n",
      "  37 │ LShaped            EP_sites_100_scenarios_1_lf_0.2_…               200.0                 200.0                   NaN               200.0           0.318033             0.318033                   NaN          0.318033\n",
      "  38 │ Base               EP_sites_100_scenarios_1_lf_0.2_…               200.0                 200.0                   NaN               200.0           0.15413              0.15413                    NaN          0.15413\n",
      "  39 │ LShaped-iterative  EP_sites_100_scenarios_1_lf_0.2_…               200.0                 200.0                   NaN               200.0           0.498041             0.498041                   NaN          0.498041\n",
      "  40 │ LShaped            EP_sites_100_scenarios_1_lf_0.2_…               200.0                 200.0                   NaN               200.0           0.265272             0.265272                   NaN          0.265272\n",
      "  41 │ Base               EP_sites_100_scenarios_1_lf_0.5_…               500.0                 500.0                   NaN               500.0           0.151902             0.151902                   NaN          0.151902\n",
      "  42 │ LShaped-iterative  EP_sites_100_scenarios_1_lf_0.5_…               500.0                 500.0                   NaN               500.0           0.424581             0.424581                   NaN          0.424581\n",
      "  43 │ LShaped            EP_sites_100_scenarios_1_lf_0.5_…               500.0                 500.0                   NaN               500.0           0.298591             0.298591                   NaN          0.298591\n",
      "  44 │ Base               EP_sites_100_scenarios_1_lf_0.5_…               500.0                 500.0                   NaN               500.0           0.144782             0.144782                   NaN          0.144782\n",
      "  45 │ LShaped-iterative  EP_sites_100_scenarios_1_lf_0.5_…               500.0                 500.0                   NaN               500.0           0.57981              0.57981                    NaN          0.57981\n",
      "  46 │ LShaped            EP_sites_100_scenarios_1_lf_0.5_…               500.0                 500.0                   NaN               500.0           0.499288             0.499288                   NaN          0.499288\n",
      "  47 │ Base               EP_sites_100_scenarios_1_lf_0.8_…               800.0                 800.0                   NaN               800.0           0.146374             0.146374                   NaN          0.146374\n",
      "  48 │ LShaped-iterative  EP_sites_100_scenarios_1_lf_0.8_…               800.0                 800.0                   NaN               800.0           0.415609             0.415609                   NaN          0.415609\n",
      "  49 │ LShaped            EP_sites_100_scenarios_1_lf_0.8_…               800.0                 800.0                   NaN               800.0           0.378021             0.378021                   NaN          0.378021\n",
      "  50 │ Base               EP_sites_100_scenarios_1_lf_0.8_…               800.0                 800.0                   NaN               800.0           0.18106              0.18106                    NaN          0.18106\n",
      "  51 │ LShaped-iterative  EP_sites_100_scenarios_1_lf_0.8_…               800.0                 800.0                   NaN               800.0           0.388235             0.388235                   NaN          0.388235\n",
      "  52 │ LShaped            EP_sites_100_scenarios_1_lf_0.8_…               800.0                 800.0                   NaN               800.0           0.397588             0.397588                   NaN          0.397588\n",
      "  53 │ Base               EP_sites_100_scenarios_50_lf_0.2…               200.0                 200.0                   NaN               200.0           6.08468              6.08468                    NaN          6.08468\n",
      "  54 │ LShaped-iterative  EP_sites_100_scenarios_50_lf_0.2…               200.0                 200.0                   NaN               200.0          30.8111              30.8111                     NaN         30.8111\n",
      "  55 │ IntegerLShaped     EP_sites_100_scenarios_50_lf_0.2…               200.0                 200.0                   NaN               200.0          27.4377              27.4377                     NaN         27.4377\n",
      "  56 │ Base               EP_sites_100_scenarios_50_lf_0.2…               200.0                 200.0                   NaN               200.0           7.49422              7.49422                    NaN          7.49422\n",
      "  57 │ LShaped-iterative  EP_sites_100_scenarios_50_lf_0.2…               200.0                 200.0                   NaN               200.0          33.8995              33.8995                     NaN         33.8995\n",
      "  58 │ IntegerLShaped     EP_sites_100_scenarios_50_lf_0.2…               200.0                 200.0                   NaN               200.0          32.6107              32.6107                     NaN         32.6107\n",
      "  59 │ Base               EP_sites_100_scenarios_50_lf_0.5…               500.0                 500.0                   NaN               500.0          19.0651              19.0651                     NaN         19.0651\n",
      "  60 │ LShaped-iterative  EP_sites_100_scenarios_50_lf_0.5…               500.0                 500.0                   NaN               500.0          38.4944              38.4944                     NaN         38.4944\n",
      "  61 │ LShaped            EP_sites_100_scenarios_50_lf_0.5…               500.0                 500.0                   NaN               500.0          35.0024              35.0024                     NaN         35.0024\n",
      "  62 │ Base               EP_sites_100_scenarios_50_lf_0.5…               500.0                 500.0                   NaN               500.0          20.9774              20.9774                     NaN         20.9774\n",
      "  63 │ LShaped-iterative  EP_sites_100_scenarios_50_lf_0.5…               500.0                 500.0                   NaN               500.0          62.7808              62.7808                     NaN         62.7808\n",
      "  64 │ LShaped            EP_sites_100_scenarios_50_lf_0.5…               500.0                 500.0                   NaN               500.0          29.458               29.458                      NaN         29.458\n",
      "  65 │ Base               EP_sites_100_scenarios_50_lf_0.8…               800.0                 800.0                   NaN               800.0          47.5483              47.5483                     NaN         47.5483\n",
      "  66 │ LShaped-iterative  EP_sites_100_scenarios_50_lf_0.8…               800.0                 800.0                   NaN               800.0          29.2396              29.2396                     NaN         29.2396\n",
      "  67 │ LShaped            EP_sites_100_scenarios_50_lf_0.8…               800.0                 800.0                   NaN               800.0          31.0645              31.0645                     NaN         31.0645\n",
      "  68 │ LShaped-iterative  EP_sites_100_scenarios_50_lf_0.8…               800.0                 800.0                   NaN               800.0          33.8615              33.8615                     NaN         33.8615\n",
      "  69 │ LShaped            EP_sites_100_scenarios_50_lf_0.8…               800.0                 800.0                   NaN               800.0          28.7111              28.7111                     NaN         28.7111\n",
      "  70 │ Base               EP_sites_10_scenarios_100_lf_0.2…                10.0                  10.0                   NaN                10.0           0.410407             0.410407                   NaN          0.410407\n",
      "  71 │ LShaped-iterative  EP_sites_10_scenarios_100_lf_0.2…                10.0                  10.0                   NaN                10.0          13.3381              13.3381                     NaN         13.3381\n",
      "  72 │ IntegerLShaped     EP_sites_10_scenarios_100_lf_0.2…                10.0                  10.0                   NaN                10.0          16.0809              16.0809                     NaN         16.0809\n",
      "  73 │ Base               EP_sites_10_scenarios_100_lf_0.2…                10.0                  10.0                   NaN                10.0           0.57623              0.57623                    NaN          0.57623\n",
      "  74 │ LShaped-iterative  EP_sites_10_scenarios_100_lf_0.2…                10.0                  10.0                   NaN                10.0          15.4706              15.4706                     NaN         15.4706\n",
      "  75 │ IntegerLShaped     EP_sites_10_scenarios_100_lf_0.2…                10.0                  10.0                   NaN                10.0          16.2621              16.2621                     NaN         16.2621\n",
      "  76 │ Base               EP_sites_10_scenarios_100_lf_0.5…                20.0                  20.0                   NaN                20.0           0.543663             0.543663                   NaN          0.543663\n",
      "  77 │ LShaped-iterative  EP_sites_10_scenarios_100_lf_0.5…                20.0                  20.0                   NaN                20.0          13.8371              13.8371                     NaN         13.8371\n",
      "  78 │ IntegerLShaped     EP_sites_10_scenarios_100_lf_0.5…                20.0                  20.0                   NaN                20.0          16.2164              16.2164                     NaN         16.2164\n",
      "  79 │ Base               EP_sites_10_scenarios_100_lf_0.5…                20.0                  20.0                   NaN                20.0           0.472681             0.472681                   NaN          0.472681\n",
      "  80 │ LShaped-iterative  EP_sites_10_scenarios_100_lf_0.5…                20.0                  20.0                   NaN                20.0          14.469               14.469                      NaN         14.469\n",
      "  81 │ IntegerLShaped     EP_sites_10_scenarios_100_lf_0.5…                20.0                  20.0                   NaN                20.0          15.2447              15.2447                     NaN         15.2447\n",
      "  82 │ Base               EP_sites_10_scenarios_100_lf_0.8…                59.88                 59.88                  NaN                59.88          3.1076               3.1076                     NaN          3.1076\n",
      "  83 │ LShaped-iterative  EP_sites_10_scenarios_100_lf_0.8…                60.0                  60.0                   NaN                60.0          12.6817              12.6817                     NaN         12.6817\n",
      "  84 │ IntegerLShaped     EP_sites_10_scenarios_100_lf_0.8…                60.0                  60.0                   NaN                60.0          13.79                13.79                       NaN         13.79\n",
      "  85 │ Base               EP_sites_10_scenarios_100_lf_0.8…                60.0                  60.0                   NaN                60.0           2.97953              2.97953                    NaN          2.97953\n",
      "  86 │ LShaped-iterative  EP_sites_10_scenarios_100_lf_0.8…                60.0                  60.0                   NaN                60.0          14.6239              14.6239                     NaN         14.6239\n",
      "  87 │ IntegerLShaped     EP_sites_10_scenarios_100_lf_0.8…                60.0                  60.0                   NaN                60.0          15.5173              15.5173                     NaN         15.5173\n",
      "  88 │ Base               EP_sites_10_scenarios_10_lf_0.2_…                10.0                  10.0                   NaN                10.0           0.0513016            0.0513016                  NaN          0.0513016\n",
      "  89 │ LShaped-iterative  EP_sites_10_scenarios_10_lf_0.2_…                10.0                  10.0                   NaN                10.0          12.417               12.417                      NaN         12.417\n",
      "  90 │ LShaped            EP_sites_10_scenarios_10_lf_0.2_…                10.0                  10.0                   NaN                10.0          11.0401              11.0401                     NaN         11.0401\n",
      "  91 │ Base               EP_sites_10_scenarios_10_lf_0.2_…                10.0                  10.0                   NaN                10.0           0.0297067            0.0297067                  NaN          0.0297067\n",
      "  92 │ LShaped-iterative  EP_sites_10_scenarios_10_lf_0.2_…                10.0                  10.0                   NaN                10.0          14.8289              14.8289                     NaN         14.8289\n",
      "  93 │ LShaped            EP_sites_10_scenarios_10_lf_0.2_…                10.0                  10.0                   NaN                10.0          13.757               13.757                      NaN         13.757\n",
      "  94 │ Base               EP_sites_10_scenarios_10_lf_0.5_…                20.0                  20.0                   NaN                20.0           0.0411495            0.0411495                  NaN          0.0411495\n",
      "  95 │ LShaped-iterative  EP_sites_10_scenarios_10_lf_0.5_…                20.0                  20.0                   NaN                20.0          14.6161              14.6161                     NaN         14.6161\n",
      "  96 │ LShaped            EP_sites_10_scenarios_10_lf_0.5_…                20.0                  20.0                   NaN                20.0          14.7021              14.7021                     NaN         14.7021\n",
      "  97 │ Base               EP_sites_10_scenarios_10_lf_0.5_…                20.0                  20.0                   NaN                20.0           0.0526447            0.0526447                  NaN          0.0526447\n",
      "  98 │ LShaped-iterative  EP_sites_10_scenarios_10_lf_0.5_…                20.0                  20.0                   NaN                20.0          12.3399              12.3399                     NaN         12.3399\n",
      "  99 │ LShaped            EP_sites_10_scenarios_10_lf_0.5_…                20.0                  20.0                   NaN                20.0          14.0743              14.0743                     NaN         14.0743\n",
      " 100 │ Base               EP_sites_10_scenarios_10_lf_0.8_…                60.0                  60.0                   NaN                60.0           0.121006             0.121006                   NaN          0.121006\n",
      " 101 │ LShaped-iterative  EP_sites_10_scenarios_10_lf_0.8_…                60.0                  60.0                   NaN                60.0          14.4856              14.4856                     NaN         14.4856\n",
      " 102 │ LShaped            EP_sites_10_scenarios_10_lf_0.8_…                60.0                  60.0                   NaN                60.0          13.6606              13.6606                     NaN         13.6606\n",
      " 103 │ Base               EP_sites_10_scenarios_10_lf_0.8_…                60.0                  60.0                   NaN                60.0           0.0917569            0.0917569                  NaN          0.0917569\n",
      " 104 │ LShaped-iterative  EP_sites_10_scenarios_10_lf_0.8_…                60.0                  60.0                   NaN                60.0          12.4828              12.4828                     NaN         12.4828\n",
      " 105 │ LShaped            EP_sites_10_scenarios_10_lf_0.8_…                60.0                  60.0                   NaN                60.0          11.432               11.432                      NaN         11.432\n",
      " 106 │ Base               EP_sites_10_scenarios_1_lf_0.2_s…                10.0                  10.0                   NaN                10.0           0.00705004           0.00705004                 NaN          0.00705004\n",
      " 107 │ LShaped-iterative  EP_sites_10_scenarios_1_lf_0.2_s…                10.0                  10.0                   NaN                10.0           0.0264461            0.0264461                  NaN          0.0264461\n",
      " 108 │ LShaped            EP_sites_10_scenarios_1_lf_0.2_s…                10.0                  10.0                   NaN                10.0           0.0252321            0.0252321                  NaN          0.0252321\n",
      " 109 │ Base               EP_sites_10_scenarios_1_lf_0.2_s…                10.0                  10.0                   NaN                10.0           0.00639951           0.00639951                 NaN          0.00639951\n",
      " 110 │ LShaped-iterative  EP_sites_10_scenarios_1_lf_0.2_s…                10.0                  10.0                   NaN                10.0           0.0262742            0.0262742                  NaN          0.0262742\n",
      " 111 │ LShaped            EP_sites_10_scenarios_1_lf_0.2_s…                10.0                  10.0                   NaN                10.0           0.02583              0.02583                    NaN          0.02583\n",
      " 112 │ Base               EP_sites_10_scenarios_1_lf_0.5_s…                20.0                  20.0                   NaN                20.0           0.00955739           0.00955739                 NaN          0.00955739\n",
      " 113 │ LShaped-iterative  EP_sites_10_scenarios_1_lf_0.5_s…                20.0                  20.0                   NaN                20.0           0.0254798            0.0254798                  NaN          0.0254798\n",
      " 114 │ LShaped            EP_sites_10_scenarios_1_lf_0.5_s…                20.0                  20.0                   NaN                20.0           0.0308309            0.0308309                  NaN          0.0308309\n",
      " 115 │ Base               EP_sites_10_scenarios_1_lf_0.5_s…                20.0                  20.0                   NaN                20.0           0.00702217           0.00702217                 NaN          0.00702217\n",
      " 116 │ LShaped-iterative  EP_sites_10_scenarios_1_lf_0.5_s…                20.0                  20.0                   NaN                20.0           0.0289581            0.0289581                  NaN          0.0289581\n",
      " 117 │ LShaped            EP_sites_10_scenarios_1_lf_0.5_s…                20.0                  20.0                   NaN                20.0           0.0296099            0.0296099                  NaN          0.0296099\n",
      " 118 │ Base               EP_sites_10_scenarios_1_lf_0.8_s…                60.0                  60.0                   NaN                60.0           0.0118004            0.0118004                  NaN          0.0118004\n",
      " 119 │ LShaped-iterative  EP_sites_10_scenarios_1_lf_0.8_s…                60.0                  60.0                   NaN                60.0           0.032166             0.032166                   NaN          0.032166\n",
      " 120 │ LShaped            EP_sites_10_scenarios_1_lf_0.8_s…                60.0                  60.0                   NaN                60.0           0.0336971            0.0336971                  NaN          0.0336971\n",
      " 121 │ Base               EP_sites_10_scenarios_1_lf_0.8_s…                60.0                  60.0                   NaN                60.0           0.0115363            0.0115363                  NaN          0.0115363\n",
      " 122 │ LShaped-iterative  EP_sites_10_scenarios_1_lf_0.8_s…                60.0                  60.0                   NaN                60.0           0.035332             0.035332                   NaN          0.035332\n",
      " 123 │ LShaped            EP_sites_10_scenarios_1_lf_0.8_s…                60.0                  60.0                   NaN                60.0           0.0324399            0.0324399                  NaN          0.0324399\n",
      " 124 │ Base               EP_sites_10_scenarios_50_lf_0.2_…                10.0                  10.0                   NaN                10.0           0.226561             0.226561                   NaN          0.226561\n",
      " 125 │ LShaped-iterative  EP_sites_10_scenarios_50_lf_0.2_…                10.0                  10.0                   NaN                10.0          13.7469              13.7469                     NaN         13.7469\n",
      " 126 │ IntegerLShaped     EP_sites_10_scenarios_50_lf_0.2_…                10.0                  10.0                   NaN                10.0          13.1962              13.1962                     NaN         13.1962\n",
      " 127 │ Base               EP_sites_10_scenarios_50_lf_0.2_…                10.0                  10.0                   NaN                10.0           0.279513             0.279513                   NaN          0.279513\n",
      " 128 │ LShaped-iterative  EP_sites_10_scenarios_50_lf_0.2_…                10.0                  10.0                   NaN                10.0          12.5519              12.5519                     NaN         12.5519\n",
      " 129 │ IntegerLShaped     EP_sites_10_scenarios_50_lf_0.2_…                10.0                  10.0                   NaN                10.0          13.0491              13.0491                     NaN         13.0491\n",
      " 130 │ Base               EP_sites_10_scenarios_50_lf_0.5_…                20.0                  20.0                   NaN                20.0           0.230142             0.230142                   NaN          0.230142\n",
      " 131 │ LShaped-iterative  EP_sites_10_scenarios_50_lf_0.5_…                20.0                  20.0                   NaN                20.0          13.7939              13.7939                     NaN         13.7939\n",
      "└ @ EmergencyPlanning /Users/sebastiangrandaaltamirano/Documents/Tech/Academic/M2 ROAD/Courses/1. Integer programming/Projet/EmergencyPlanning/src/services/benchmark.jl:66\n",
      "┌ Warning: seriestype boxplot has been moved to StatsPlots.  To use: `Pkg.add(\"StatsPlots\"); using StatsPlots`\n",
      "└ @ Plots /Users/sebastiangrandaaltamirano/.julia/packages/Plots/sxUvK/src/args.jl:1516\n"
     ]
    },
    {
     "ename": "ErrorException",
     "evalue": "Cannot convert DataFrames.DataFrame to series data for plotting",
     "output_type": "error",
     "traceback": [
      "Cannot convert DataFrames.DataFrame to series data for plotting\n",
      "\n",
      "Stacktrace:\n",
      "  [1] error(s::String)\n",
      "    @ Base ./error.jl:35\n",
      "  [2] _prepare_series_data(x::DataFrames.DataFrame)\n",
      "    @ RecipesPipeline ~/.julia/packages/RecipesPipeline/BGM3l/src/series.jl:8\n",
      "  [3] _series_data_vector(x::DataFrames.DataFrame, plotattributes::Dict{Symbol, Any})\n",
      "    @ RecipesPipeline ~/.julia/packages/RecipesPipeline/BGM3l/src/series.jl:36\n",
      "  [4] macro expansion\n",
      "    @ ~/.julia/packages/RecipesPipeline/BGM3l/src/series.jl:128 [inlined]\n",
      "  [5] apply_recipe(plotattributes::AbstractDict{Symbol, Any}, #unused#::Type{RecipesPipeline.SliceIt}, x::Any, y::Any, z::Any)\n",
      "    @ RecipesPipeline ~/.julia/packages/RecipesBase/BRe07/src/RecipesBase.jl:300\n",
      "  [6] _process_userrecipes!(plt::Any, plotattributes::Any, args::Any)\n",
      "    @ RecipesPipeline ~/.julia/packages/RecipesPipeline/BGM3l/src/user_recipe.jl:38\n",
      "  [7] recipe_pipeline!(plt::Any, plotattributes::Any, args::Any)\n",
      "    @ RecipesPipeline ~/.julia/packages/RecipesPipeline/BGM3l/src/RecipesPipeline.jl:72\n",
      "  [8] _plot!(plt::Plots.Plot, plotattributes::Any, args::Any)\n",
      "    @ Plots ~/.julia/packages/Plots/sxUvK/src/plot.jl:223\n",
      "  [9] plot(::Any, ::Vararg{Any}; kw::Base.Pairs{Symbol, V, Tuple{Vararg{Symbol, N}}, NamedTuple{names, T}} where {V, N, names, T<:Tuple{Vararg{Any, N}}})\n",
      "    @ Plots ~/.julia/packages/Plots/sxUvK/src/plot.jl:102\n",
      " [10] boxplot(::Any, ::Vararg{Any}; kw::Base.Pairs{Symbol, V, Tuple{Vararg{Symbol, N}}, NamedTuple{names, T}} where {V, N, names, T<:Tuple{Vararg{Any, N}}})\n",
      "    @ Plots ~/.julia/packages/RecipesBase/BRe07/src/RecipesBase.jl:427\n",
      " [11] boxplot\n",
      "    @ ~/.julia/packages/RecipesBase/BRe07/src/RecipesBase.jl:427 [inlined]\n",
      " [12] plot_summary!()\n",
      "    @ EmergencyPlanning ~/Documents/Tech/Academic/M2 ROAD/Courses/1. Integer programming/Projet/EmergencyPlanning/src/services/benchmark.jl:68\n",
      " [13] top-level scope\n",
      "    @ ~/Documents/Tech/Academic/M2 ROAD/Courses/1. Integer programming/Projet/EmergencyPlanning/Analysis.ipynb:1"
     ]
    }
   ],
   "source": [
    "plot_summary!()\n",
    "\n",
    "# TODO esto deberia ser GAP ! que se compute entre par soluciones de la misma instancia, y las estadisticas sean los gap.\n",
    "# Ademas, solo min, avg, stg, max es suficiente\n",
    "# Importante la agryupacion model instance no es suficiente (o relevante incluso) porque quiero saber el desempeno general no x instance."
   ]
  }
 ],
 "metadata": {
  "kernelspec": {
   "display_name": "Julia 1.9.3",
   "language": "julia",
   "name": "julia-1.9"
  },
  "language_info": {
   "file_extension": ".jl",
   "mimetype": "application/julia",
   "name": "julia",
   "version": "1.9.3"
  }
 },
 "nbformat": 4,
 "nbformat_minor": 2
}
